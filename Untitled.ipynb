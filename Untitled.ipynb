{
 "cells": [
  {
   "cell_type": "code",
   "execution_count": 2,
   "metadata": {},
   "outputs": [
    {
     "ename": "ImportError",
     "evalue": "cannot import name 'NuSV'",
     "output_type": "error",
     "traceback": [
      "\u001b[1;31m---------------------------------------------------------------------------\u001b[0m",
      "\u001b[1;31mImportError\u001b[0m                               Traceback (most recent call last)",
      "\u001b[1;32m<ipython-input-2-82103c0f8329>\u001b[0m in \u001b[0;36m<module>\u001b[1;34m()\u001b[0m\n\u001b[0;32m      9\u001b[0m \u001b[1;32mfrom\u001b[0m \u001b[0msklearn\u001b[0m\u001b[1;33m.\u001b[0m\u001b[0mlinear_model\u001b[0m \u001b[1;32mimport\u001b[0m \u001b[0mPerceptron\u001b[0m\u001b[1;33m\u001b[0m\u001b[0m\n\u001b[0;32m     10\u001b[0m \u001b[1;32mfrom\u001b[0m \u001b[0msklearn\u001b[0m\u001b[1;33m.\u001b[0m\u001b[0msvm\u001b[0m \u001b[1;32mimport\u001b[0m \u001b[0mSVC\u001b[0m\u001b[1;33m\u001b[0m\u001b[0m\n\u001b[1;32m---> 11\u001b[1;33m \u001b[1;32mfrom\u001b[0m \u001b[0msklearn\u001b[0m\u001b[1;33m.\u001b[0m\u001b[0msvm\u001b[0m \u001b[1;32mimport\u001b[0m \u001b[0mNuSV\u001b[0m\u001b[1;31m# Load dataset\u001b[0m\u001b[1;33m\u001b[0m\u001b[0m\n\u001b[0m\u001b[0;32m     12\u001b[0m \u001b[0mfilename\u001b[0m \u001b[1;33m=\u001b[0m \u001b[1;34m\"spambase.csv\"\u001b[0m\u001b[1;33m\u001b[0m\u001b[0m\n\u001b[0;32m     13\u001b[0m \u001b[0mdataset\u001b[0m \u001b[1;33m=\u001b[0m \u001b[0mpandas\u001b[0m\u001b[1;33m.\u001b[0m\u001b[0mread_csv\u001b[0m\u001b[1;33m(\u001b[0m\u001b[0mfilename\u001b[0m\u001b[1;33m,\u001b[0m\u001b[0mheader\u001b[0m\u001b[1;33m=\u001b[0m\u001b[1;32mNone\u001b[0m\u001b[1;33m)\u001b[0m\u001b[1;33m\u001b[0m\u001b[0m\n",
      "\u001b[1;31mImportError\u001b[0m: cannot import name 'NuSV'"
     ]
    }
   ],
   "source": [
    "# Load libraries\n",
    "import pandas\n",
    "from pandas.plotting import scatter_matrix\n",
    "import matplotlib.pyplot as plt\n",
    "from sklearn import model_selection\n",
    "from sklearn.metrics import classification_report\n",
    "from sklearn.metrics import confusion_matrix\n",
    "from sklearn.metrics import accuracy_score\n",
    "from sklearn.linear_model import Perceptron\n",
    "from sklearn.svm import SVC\n",
    "from sklearn.svm import NuSV# Load dataset\n",
    "filename = \"spambase.csv\"\n",
    "dataset = pandas.read_csv(filename,header=None)\n",
    "\n",
    "# Split-out validation dataset\n",
    "array = dataset.values\n",
    "X = array[:,0:57] # 0:3 are the features, 4 is the class\n",
    "Y = array[:,57]  \n",
    "validation_size = 0.20 \n",
    "seed = 7\n",
    "scoring = 'accuracy' # ratio of correct predictions / total nr of instances\n",
    "X_train, X_validation, Y_train, Y_validation = model_selection.train_test_split(X, Y, test_size=validation_size, random_state=seed)\n",
    "\n",
    "# models = []\n",
    "# # models.append(('SVM', SVC(C=3, shrinking=False)))\n",
    "# models.append(('NN1', MLPClassifier(random_state=0)))\n",
    "# models.append(('NN2', MLPClassifier(random_state=0,hidden_layer_sizes=(200,))))\n",
    "# models.append(('NN3', MLPClassifier(random_state=0,activation='logistic')))\n",
    "# models.append(('NN4', MLPClassifier(random_state=0,activation='tanh')))\n",
    "# models.append(('NN5', MLPClassifier(random_state=0,alpha=0.001)))\n",
    "\n",
    "\n",
    "# # evaluate each model in turn\n",
    "# results = []\n",
    "# names = []\n",
    "# for name, model in models:\n",
    "# \tkfold = model_selection.KFold(n_splits=10, random_state=seed)\n",
    "# \tcv_results = model_selection.cross_val_score(model, X_train, Y_train, cv=kfold, scoring=scoring)\n",
    "# \tresults.append(cv_results)\n",
    "# \tnames.append(name)\n",
    "# \tmsg = \"Validation error for %s: %f (%f)\" % (name, cv_results.mean(), cv_results.std())\n",
    "# \tprint(msg)\n",
    "# \tmodel.fit(X_train, Y_train)\n",
    "# \tpredictions = model.predict(X_validation)\n",
    "# \tprint('Test error is ' + str(accuracy_score(Y_validation, predictions)))\n",
    "# \tprint(confusion_matrix(Y_validation, predictions))\n",
    "# \tprint(classification_report(Y_validation, predictions))\n",
    "\n",
    "\n",
    "\n",
    "\n",
    "\n",
    "# HERE\n",
    "\n",
    "\n",
    "models = []\n",
    "val_errors = []\n",
    "names = []\n",
    "cur_err = 0\n",
    "cur_clf = MLPClassifier(random_state=0)\n",
    "\n",
    "alphas = [0, 0.0001, 0.001, 0.01, 0.1, 1, 10]\n",
    "act = ['identity', 'logistic', 'tanh', 'relu']\n",
    "# alphas = [10, 100, 1000, 5000]\n",
    "# reg = ['l2']\n",
    "\n",
    "i = 0\n",
    "for a in act:\n",
    "\tfor alp in alphas:\n",
    "\t\tmodels.append(('NN'+str(i)+' '+a, MLPClassifier(random_state=0,activation=a,alpha=alp)))\n",
    "\t\ti += 1\n",
    "\n",
    "for name, model in models:\n",
    "\tkfold = model_selection.KFold(n_splits=10, random_state=seed)\n",
    "\tcv_results = model_selection.cross_val_score(model, X_train, Y_train, cv=kfold, scoring=scoring)\n",
    "\tcv_err = cv_results.mean()\n",
    "\tval_errors.append(cv_results)\n",
    "\t#names.append(name)\n",
    "\tmsg = \"%s: %f (%f)\" % (name, cv_err, cv_results.std())\n",
    "\tprint(msg)\n",
    "\tif cv_err > cur_err:\n",
    "\t\tcur_err = cv_err\n",
    "\t\tcur_clf = model\n",
    "\n",
    "cur_clf.fit(X_train, Y_train)\n",
    "predictions = cur_clf.predict(X_validation)\n",
    "print('Best model is:')\n",
    "print(cur_clf)\n",
    "print('With an accuracy score of: ' + str(accuracy_score(Y_validation, predictions)))\n",
    "print(confusion_matrix(Y_validation, predictions))\n",
    "print(classification_report(Y_validation, predictions))\n",
    "print('Nr of iterations: ' + str(cur_clf.n_iter_))\n",
    "C\n",
    "from sklearn.neural_network import MLPClassifier\n",
    "\n",
    "import numpy as np\n"
   ]
  },
  {
   "cell_type": "code",
   "execution_count": 3,
   "metadata": {},
   "outputs": [],
   "source": [
    "a=3"
   ]
  },
  {
   "cell_type": "code",
   "execution_count": 4,
   "metadata": {},
   "outputs": [
    {
     "name": "stdout",
     "output_type": "stream",
     "text": [
      "3\n"
     ]
    }
   ],
   "source": [
    "print(a)\n"
   ]
  },
  {
   "cell_type": "code",
   "execution_count": null,
   "metadata": {},
   "outputs": [],
   "source": []
  }
 ],
 "metadata": {
  "kernelspec": {
   "display_name": "Python 3",
   "language": "python",
   "name": "python3"
  },
  "language_info": {
   "codemirror_mode": {
    "name": "ipython",
    "version": 3
   },
   "file_extension": ".py",
   "mimetype": "text/x-python",
   "name": "python",
   "nbconvert_exporter": "python",
   "pygments_lexer": "ipython3",
   "version": "3.6.4"
  }
 },
 "nbformat": 4,
 "nbformat_minor": 2
}
